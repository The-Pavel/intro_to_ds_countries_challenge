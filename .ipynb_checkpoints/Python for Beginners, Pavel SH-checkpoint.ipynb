{
 "cells": [
  {
   "cell_type": "markdown",
   "metadata": {},
   "source": [
    "# Data Science in Python for Beginners 🤓"
   ]
  },
  {
   "cell_type": "markdown",
   "metadata": {},
   "source": [
    "## Python Basics ⚙️"
   ]
  },
  {
   "cell_type": "markdown",
   "metadata": {},
   "source": [
    "    Everything in Python is an object. Objects have attributes and methods. \n",
    "Real life example: a car as an object, has attributes such as color, make, year of manufacture, transmission mode etc., and methods such as accelerating, reverse, braking."
   ]
  },
  {
   "cell_type": "markdown",
   "metadata": {},
   "source": [
    "### Python Data Types and Variables 🧱\n",
    "- Strings\n",
    "- Integers\n",
    "- Floats\n",
    "- Booleans & Logicals\n",
    "- Variables\n",
    "- Lists & Dictionaries*\n",
    "- \"Built-in Methods\"\n",
    "- None*\n",
    "\n",
    "*Only FYI"
   ]
  },
  {
   "cell_type": "markdown",
   "metadata": {},
   "source": [
    "#### STRINGS   str()\n",
    "To represent a text and defined with \"double\" or 'single' quotes\n",
    "\n",
    "    \"Python for Beginners\"\n",
    "    'Python for Beginners'\n",
    "    '2019'"
   ]
  },
  {
   "cell_type": "markdown",
   "metadata": {},
   "source": [
    "#### Built-in Methods for Strings\n",
    "    type(\"python\")\n",
    "    int('2019')\n",
    "    len(\"python\")\n",
    "    'python'.capitalize()\n",
    "    \"python is fun\".count('n')\n",
    "    \"PYTHON\".lower()\n",
    "    'python'.index('o')"
   ]
  },
  {
   "cell_type": "markdown",
   "metadata": {},
   "source": [
    "#### Your turn! 🚀Try out `strings` below!\n",
    "\n",
    "How? Type in a line of code on the empty line below and press `Shift` + `enter/return ⏎` keys to run it"
   ]
  },
  {
   "cell_type": "code",
   "execution_count": null,
   "metadata": {},
   "outputs": [],
   "source": []
  },
  {
   "cell_type": "markdown",
   "metadata": {},
   "source": [
    "#### INTEGERS   int()\n",
    "To represent integers and can do standard arithmetics.\n",
    "    \n",
    "    10\n",
    "    -24\n",
    "    2019"
   ]
  },
  {
   "cell_type": "markdown",
   "metadata": {},
   "source": [
    "#### Built-in Methods for Integers\n",
    "    type(10)\n",
    "    abs(-24)\n",
    "    min(10, -24, 2019)\n",
    "    max(10, -24, 2019)\n",
    "    float(10)"
   ]
  },
  {
   "cell_type": "markdown",
   "metadata": {},
   "source": [
    "#### Arithmetic Operators\n",
    "    1 + 2    => 3  (Addition)\n",
    "    1 - 2    => -1 (Subtraction)\n",
    "    2 * 4    => 8  (Multiplication)\n",
    "    5 / 2    => 2.5(Division)\n",
    "    5 // 2   => 2  (Floor division)\n",
    "    5 % 2    => 1  (Modulus)\n",
    "    2 ** 3   => 8  (Exponent)"
   ]
  },
  {
   "cell_type": "code",
   "execution_count": null,
   "metadata": {},
   "outputs": [],
   "source": []
  },
  {
   "cell_type": "markdown",
   "metadata": {},
   "source": [
    "#### FLOATS   float()\n",
    "To represent decimal numbers and can do standard arithmetics.\n",
    "\n",
    "    10.23132\n",
    "    -24.1\n",
    "    2019.0"
   ]
  },
  {
   "cell_type": "markdown",
   "metadata": {},
   "source": [
    "#### Built-in Methods for Floats\n",
    "    all built-functions for integers\n",
    "    round(10.23132, 2)\n",
    "    import math # first import math package - a collection of advanced mathematical functions\n",
    "    math.floor(10.23132)   \n",
    "    math.ceil(-24.1)\n",
    "    math.ceil(24.1)\n",
    "    math.factorial(5)"
   ]
  },
  {
   "cell_type": "markdown",
   "metadata": {},
   "source": [
    "####  Your turn! 🚀Try out `integers` and `floats` below!\n",
    "\n",
    "How? Type in a line of code on the empty line below and press `Shift` + `enter/return ⏎` keys to run it"
   ]
  },
  {
   "cell_type": "code",
   "execution_count": null,
   "metadata": {},
   "outputs": [],
   "source": []
  },
  {
   "cell_type": "markdown",
   "metadata": {},
   "source": [
    "#### BOOLEANS & LOGICALS   bool()\n",
    "Booleans represent something that is True or False\n",
    "\n",
    "    True\n",
    "    False\n",
    "    \n",
    "Comparison Operators always yield Boolean values\n",
    "\n",
    "     ==       # different from assignment operator '='\n",
    "     !=\n",
    "     > or >=\n",
    "     < or <=\n",
    "     \n",
    "Logicals include:\n",
    "\n",
    "    or\n",
    "    and\n",
    "    not"
   ]
  },
  {
   "cell_type": "markdown",
   "metadata": {},
   "source": [
    "### VARIABLES 📦\n",
    "- Allows you to store values to reuse later\n",
    "- You assign a value to a variable\n",
    "- Variables can be overwritten and incremented\n",
    "- By convention, variable names should be in snake_case\n",
    "\n",
    "Variable assignment statement - *putting things in a box*\n",
    "\n",
    "    putting the `string` \"John\" in the box `first_name`\n",
    "        \n",
    "        first_name = \"John\"\n",
    "        \n",
    "    putting the `integer` 29 in the box `age`\n",
    "    \n",
    "        age = 29\n",
    "       \n",
    "    \n",
    "Variable reading - *opening the box to see what is inside*\n",
    "\n",
    "    print(age)\n",
    "    print(first_name)"
   ]
  },
  {
   "cell_type": "markdown",
   "metadata": {},
   "source": [
    "####  Your turn! 🚀Try out `booleans` and variables\n",
    "\n",
    "How? Type in a line of code on the empty line below and press `Shift` + `enter/return ⏎` keys to run it.\n",
    "\n",
    "Some ideas:\n",
    "* make two variables and check if they are equal (*pssst*, ==)\n",
    "* make two variables - your first name and last name - and try to add them together\n",
    "* create a variable with your age in years - now calculate your age in minutes"
   ]
  },
  {
   "cell_type": "markdown",
   "metadata": {},
   "source": [
    "# !!! SPLITTING FROM MICHAEL'S HERE"
   ]
  },
  {
   "cell_type": "markdown",
   "metadata": {},
   "source": [
    "# Data Science - Analysis 🧮"
   ]
  },
  {
   "cell_type": "markdown",
   "metadata": {},
   "source": [
    "#### First of all - what are we using? 🔨"
   ]
  },
  {
   "cell_type": "markdown",
   "metadata": {},
   "source": [
    "[Jupyter Notebook](https://jupyter.org) is an open-source web application which allows you to create and share documents with code, visualizations and narrative. Which is what we are doing right now! "
   ]
  },
  {
   "cell_type": "markdown",
   "metadata": {},
   "source": [
    "[Numpy](https://www.numpy.org) fundamental package for scientific computing in Python."
   ]
  },
  {
   "cell_type": "markdown",
   "metadata": {},
   "source": [
    "[Pandas](https://pandas.pydata.org) is an open-source library providing easy to use data structuring and analytics for Python. "
   ]
  },
  {
   "cell_type": "markdown",
   "metadata": {},
   "source": [
    "### So this is how every Jupyter notebook starts..."
   ]
  },
  {
   "cell_type": "code",
   "execution_count": null,
   "metadata": {},
   "outputs": [],
   "source": [
    "import numpy as np\n",
    "import pandas as pd"
   ]
  },
  {
   "cell_type": "markdown",
   "metadata": {},
   "source": [
    "#### Python and Pandas is great for reading data files, like CSV"
   ]
  },
  {
   "cell_type": "code",
   "execution_count": null,
   "metadata": {
    "scrolled": true
   },
   "outputs": [],
   "source": [
    "file = \"countries of the world 2.csv\"\n",
    "countries_data = pd.read_csv(file, decimal=\",\")\n",
    "# no need to use print() when we want to see DataFrames, simply put what you want to see on the last line\n",
    "countries_data"
   ]
  },
  {
   "cell_type": "markdown",
   "metadata": {},
   "source": [
    "## We can then have a quick look at our `DataFrame` 🗺"
   ]
  },
  {
   "cell_type": "code",
   "execution_count": null,
   "metadata": {
    "scrolled": true
   },
   "outputs": [],
   "source": [
    "# check how many rows and columns we have (rows, columns)\n",
    "print(\"rows and columns -->\", countries_data.shape)\n",
    "# check all the columns that our DataFrame has\n",
    "print(\"all column names -->\", countries_data.columns)\n",
    "# check the first few records of the DataFrame\n",
    "countries_data.head(5) # will take the first 5 records\n",
    "# check the last few records of the DataFrame\n",
    "countries_data.tail(5) # will take the last 5 records"
   ]
  },
  {
   "cell_type": "code",
   "execution_count": null,
   "metadata": {},
   "outputs": [],
   "source": [
    "# we can see only the values of one column by putting the name of the column in square brackets, ie. [\"column\"]\n",
    "countries_data[\"Population\"]\n",
    "# we can see a few values together with double square brackets, ie. [[\"column1\", \"column2\"]]\n",
    "countries_data[[\"Population\", \"Country\"]]"
   ]
  },
  {
   "cell_type": "markdown",
   "metadata": {},
   "source": [
    "####  Your turn! 🚀Run the code to import `numpy` and `pandas` and read the CSV to get `countrie_data`. No need to change anything there ;)\n",
    "\n",
    "#### Now play around with your `DataFrame` 🤓\n",
    "\n",
    "Some ideas:\n",
    "* check the amount of rows and columns in your DataFrame\n",
    "* check what are all the columns that you have\n",
    "* view only the \"Climate\" column of your DataFrame\n",
    "* view the first 10 rows of your DataFrame\n",
    "* view the last 10 rows of your DataFrame, but only viewing the \"Country\", \"Population\" and \"Climate\" 🤔\n",
    "\n",
    "How? Type in your code on the empty line below and press `Shift` + `enter/return ⏎` keys to run it"
   ]
  },
  {
   "cell_type": "code",
   "execution_count": null,
   "metadata": {},
   "outputs": [],
   "source": []
  },
  {
   "cell_type": "markdown",
   "metadata": {},
   "source": [
    "## Now let's do some data analytics! 🔍"
   ]
  },
  {
   "cell_type": "markdown",
   "metadata": {},
   "source": [
    "#### Let's say we want to see countries with over 20,000,000 people. We want to create a `boolean` - `True` or `False` - with this condition"
   ]
  },
  {
   "cell_type": "code",
   "execution_count": null,
   "metadata": {},
   "outputs": [],
   "source": [
    "large_population = countries_data[\"Population\"] > 20_000_000\n",
    "large_population"
   ]
  },
  {
   "cell_type": "markdown",
   "metadata": {},
   "source": [
    "#### We can see that `large_population` is now a list of `True` and `False` values, matching our countries DataFrame 🧐"
   ]
  },
  {
   "cell_type": "markdown",
   "metadata": {},
   "source": [
    "#### Now we can apply this condition to our `countries_data` using the square brackets `[condition]`, same syntax as we used for checking columns "
   ]
  },
  {
   "cell_type": "code",
   "execution_count": null,
   "metadata": {},
   "outputs": [],
   "source": [
    "large_countries = countries_data[large_population]\n",
    "large_countries"
   ]
  },
  {
   "cell_type": "code",
   "execution_count": null,
   "metadata": {},
   "outputs": [],
   "source": [
    "# we can also sort our large_countries by Population, having largest first\n",
    "large_countries.sort_values(\"Population\", ascending=False) # change False to True if you wan't smallest countries first :)"
   ]
  },
  {
   "cell_type": "code",
   "execution_count": null,
   "metadata": {},
   "outputs": [],
   "source": [
    "# but we can also combine data points! Let's see which of our large countries have the biggest Service industry 🤔\n",
    "large_service_countries = large_countries.sort_values(\"Service\", ascending=False)\n",
    "large_service_countries"
   ]
  },
  {
   "cell_type": "code",
   "execution_count": null,
   "metadata": {
    "scrolled": true
   },
   "outputs": [],
   "source": [
    "# let's make our view a little cleaner - I only want to see the Country, Population and the ratio of Service industry\n",
    "large_service_countries[[\"Country\", \"Population\", \"Service\"]]"
   ]
  },
  {
   "cell_type": "markdown",
   "metadata": {},
   "source": [
    "####  Your turn! 🚀 Explore your `DataFrame` and run some analysis 🤓\n",
    "\n",
    "Some ideas:\n",
    "* check which countries have the warmest climate ☀️\n",
    "* let's check the tiny countries! make a variable to store countries with Population < 3_000_000\n",
    "* Beach life! 😎check the countries with longest Coastline. Remember to type the full column name!\n",
    "* Are these coastal countries always online? 📱Let's sort them by amount of Phone usage. Again, check the full column name!\n",
    "#### ...and anything else you want to analyze! 🚀\n",
    "\n",
    "How? Type in your code on the empty line below and press `Shift` + `enter/return ⏎` keys to run it"
   ]
  },
  {
   "cell_type": "markdown",
   "metadata": {},
   "source": [
    "# !!! SPLITTING FROM MICHAEL'S HERE"
   ]
  },
  {
   "cell_type": "markdown",
   "metadata": {},
   "source": []
  },
  {
   "cell_type": "markdown",
   "metadata": {},
   "source": [
    "## String Concatenation\n",
    "\n",
    "    first_name = \"John\"\n",
    "    last_name = 'Lennon'\n",
    "    \n",
    "    full_name = first_name + last_name"
   ]
  },
  {
   "cell_type": "code",
   "execution_count": null,
   "metadata": {},
   "outputs": [],
   "source": []
  },
  {
   "cell_type": "markdown",
   "metadata": {},
   "source": [
    "## Conditionals\n",
    "\n",
    "    1. if condition:\n",
    "        statemnt\n",
    "    \n",
    "    2. if condition:\n",
    "        statement\n",
    "    else:\n",
    "        statement\n",
    "        \n",
    "    3. if condition 1:\n",
    "         statement 1\n",
    "       elif condition 2:\n",
    "         statement 2\n",
    "         .\n",
    "         .\n",
    "         .\n",
    "       (else:\n",
    "          statement n)          # optional"
   ]
  },
  {
   "cell_type": "code",
   "execution_count": null,
   "metadata": {},
   "outputs": [],
   "source": []
  },
  {
   "cell_type": "markdown",
   "metadata": {},
   "source": [
    "## Loops\n",
    "\n",
    "    1. while condition:    # usually loops so long as condition is true\n",
    "           statement\n",
    "           \n",
    "    2. for __ in __        # usually loops finite times  \n",
    "           statement\n"
   ]
  },
  {
   "cell_type": "code",
   "execution_count": null,
   "metadata": {},
   "outputs": [],
   "source": []
  },
  {
   "cell_type": "markdown",
   "metadata": {},
   "source": [
    "## Input / Output   input()    print()\n",
    "\n",
    "    a = input()\n",
    "    a = input(\"what is your name? \")\n",
    "    print(\"wo ai zhongguo\")"
   ]
  },
  {
   "cell_type": "code",
   "execution_count": null,
   "metadata": {},
   "outputs": [],
   "source": []
  },
  {
   "cell_type": "markdown",
   "metadata": {},
   "source": [
    "# CHALLENGES"
   ]
  },
  {
   "cell_type": "markdown",
   "metadata": {},
   "source": [
    "## 1. Microwave Oven\n",
    "Specs:\n",
    "- Implement a microwave oven program that asks user what kind of food does he/she wants to heat.\n",
    "- If the user wants to heat up noodles, send a message to the customer that ”I am heating up noodles”\n",
    "- If the user wants to heat up rice, send a message to the customer that ”I am heating up rice”\n",
    "\n",
    "Eg.\n",
    "\n",
    "=> Which kind of food do you want to heat up?        noodles\n",
    "\n",
    "=> I am heating up noodles!\n"
   ]
  },
  {
   "cell_type": "code",
   "execution_count": null,
   "metadata": {},
   "outputs": [],
   "source": []
  },
  {
   "cell_type": "code",
   "execution_count": null,
   "metadata": {},
   "outputs": [],
   "source": []
  },
  {
   "cell_type": "markdown",
   "metadata": {},
   "source": [
    "## 2. Super Microwave Oven\n",
    "Specs:\n",
    "- If the customer wants to heat up noodles, tell him/her this is going to cost 2 seconds.\n",
    "- If the customer wants to heat up rice, tell him/her this is going to cost 5 seconds.\n",
    "- Until the food is ready, send a message to the customer that the food is ready.\n",
    "\n",
    "Eg.\n",
    "\n",
    "=>Which kind of food do you want to heat, noodles/rice? noodles\n",
    "\n",
    "=>This is going to cost 2 seconds….\n",
    "\n",
    "=>noodles are ready!!"
   ]
  },
  {
   "cell_type": "raw",
   "metadata": {},
   "source": [
    "# HINT:\n",
    "\n",
    "import time\n",
    "\n",
    "time.sleep(n)                # forces the running of the code to delay/sleep for n seconds"
   ]
  },
  {
   "cell_type": "code",
   "execution_count": null,
   "metadata": {
    "scrolled": true
   },
   "outputs": [],
   "source": []
  },
  {
   "cell_type": "code",
   "execution_count": null,
   "metadata": {},
   "outputs": [],
   "source": []
  },
  {
   "cell_type": "markdown",
   "metadata": {},
   "source": [
    "## 3. Microwave Oven PRO\n",
    "Specs:\n",
    "- Ask the user which food he/she wants to heat and for how long?\n",
    "- Then count the time to tell the user how much time spent.\n",
    "- Once down, tell the user food is ready!\n",
    "\n",
    "Eg.\n",
    "\n",
    "=>Which one do you want to heat, noodles/rice?   noodles\n",
    "\n",
    "=>how many seconds does it take?    5\n",
    "\n",
    "    Cooking…\n",
    "    0\n",
    "    1\n",
    "    2\n",
    "    3\n",
    "    4\n",
    "    5\n",
    "    Your food is ready! \n"
   ]
  },
  {
   "cell_type": "raw",
   "metadata": {},
   "source": [
    "# HINT:\n",
    "\n",
    "import time\n",
    "time.sleep(n)                # forces the running of the code to delay/sleep for n seconds"
   ]
  },
  {
   "cell_type": "code",
   "execution_count": null,
   "metadata": {},
   "outputs": [],
   "source": []
  },
  {
   "cell_type": "code",
   "execution_count": null,
   "metadata": {},
   "outputs": [],
   "source": []
  }
 ],
 "metadata": {
  "kernelspec": {
   "display_name": "Python 3",
   "language": "python",
   "name": "python3"
  },
  "language_info": {
   "codemirror_mode": {
    "name": "ipython",
    "version": 3
   },
   "file_extension": ".py",
   "mimetype": "text/x-python",
   "name": "python",
   "nbconvert_exporter": "python",
   "pygments_lexer": "ipython3",
   "version": "3.7.5"
  }
 },
 "nbformat": 4,
 "nbformat_minor": 2
}
