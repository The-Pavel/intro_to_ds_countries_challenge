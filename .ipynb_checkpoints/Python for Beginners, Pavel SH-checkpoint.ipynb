{
 "cells": [
  {
   "cell_type": "markdown",
   "metadata": {},
   "source": [
    "# Data Science in Python for Beginners 🤓"
   ]
  },
  {
   "cell_type": "markdown",
   "metadata": {},
   "source": [
    "# Agenda for our workshop ⏰\n",
    "\n",
    "### Basics first 🐣 Python Data Types (40 min)\n",
    "*  Strings\n",
    "*  Practice Round ✍️\n",
    "*  Integers and Floats\n",
    "*  Practice Round ✍️\n",
    "\n",
    "### Data Analytics - Reading Data in Python 🧮(30 min)\n",
    "*  Tools we will use\n",
    "*  Importing data from CSV\n",
    "*  Previewing the DataFrame\n",
    "*  Practice Round ✍️\n",
    "\n",
    "### Data Analytics - Our first analysis 🔍(50 min)\n",
    "*  Boolean analysis\n",
    "*  Our first analysis - let's check out the largest countries\n",
    "*  Combining data points for more insight\n",
    "*  Practice Round ✍️"
   ]
  },
  {
   "cell_type": "markdown",
   "metadata": {},
   "source": [
    "### How to use this file? 🤔\n",
    "\n",
    "* Type inside the empty cells to write code. These empty cells will have a [ ]: prefix before\n",
    "* Press the return/enter ⏎ key to add a new line inside the cell\n",
    "* To display your results use the Python built in `print(STUFF_YOU_WANT_TO_PRINT)` method or simply put the stuff you want to print as the last line inside the cell. The last line will appear as the `Out[]` or the output of the cell :)\n",
    "* Press `shift` + `return/enter ⏎` to run your code 🤓 this will run the code inside your currently selected cell and print anything inside `print()` method and the last line of your cell\n",
    "* To add a new cell, select any cell and press the `b` key (make sure you are not just typing the letter `b` in the cell). This will add a new line below\n",
    "* To delete a cell, double press the `d` key (make sure you are not just typing the letter `d` in the cell)\n",
    "\n",
    "#### Try to run the code below! 😃"
   ]
  },
  {
   "cell_type": "code",
   "execution_count": 4,
   "metadata": {},
   "outputs": [
    {
     "name": "stdout",
     "output_type": "stream",
     "text": [
      "Welcome to the Python workshop of Le Wagon!\n",
      "Are you ready to do your first data analysis?\n"
     ]
    },
    {
     "data": {
      "text/plain": [
       "'Yes we are! 🚀'"
      ]
     },
     "execution_count": 4,
     "metadata": {},
     "output_type": "execute_result"
    }
   ],
   "source": [
    "print(\"Welcome to the Python workshop of Le Wagon!\")\n",
    "print(\"Are you ready to do your first data analysis?\")\n",
    "\"Yes we are! 🚀\""
   ]
  },
  {
   "cell_type": "markdown",
   "metadata": {},
   "source": [
    "## Python Basics ⚙️"
   ]
  },
  {
   "cell_type": "markdown",
   "metadata": {},
   "source": [
    "    Everything in Python is an object. Objects have attributes and methods. \n",
    "Real life example: a car as an object, has attributes such as color, make, year of manufacture, transmission mode etc., and methods such as accelerating, reverse, braking."
   ]
  },
  {
   "cell_type": "markdown",
   "metadata": {},
   "source": [
    "### Python Data Types and Variables 🧱\n",
    "- Strings\n",
    "- Integers\n",
    "- Floats\n",
    "- Booleans & Logicals\n",
    "- Variables\n",
    "- Lists & Dictionaries*\n",
    "\n",
    "*Only FYI"
   ]
  },
  {
   "cell_type": "markdown",
   "metadata": {},
   "source": [
    "### STRINGS   str() 📝\n",
    "To represent a text and defined with \"double\" or 'single' quotes\n",
    "\n",
    "    \"Python for Beginners\"\n",
    "    'Python for Beginners'\n",
    "    '2019'"
   ]
  },
  {
   "cell_type": "markdown",
   "metadata": {},
   "source": [
    "#### Built-in Methods for Strings\n",
    "    type(\"python\")\n",
    "    int('2019')\n",
    "    len(\"python\")\n",
    "    'python'.capitalize()\n",
    "    \"python is fun\".count('n')\n",
    "    \"PYTHON\".lower()\n",
    "    'python'.index('o')"
   ]
  },
  {
   "cell_type": "markdown",
   "metadata": {},
   "source": [
    "### Your turn! 🚀Try out `strings` below!\n",
    "\n",
    "How? Type in a line of code on the empty line below and press `Shift` + `enter/return ⏎` keys to run it"
   ]
  },
  {
   "cell_type": "code",
   "execution_count": null,
   "metadata": {},
   "outputs": [],
   "source": []
  },
  {
   "cell_type": "markdown",
   "metadata": {},
   "source": [
    "### INTEGERS   int() 🔢\n",
    "To represent integers and can do standard arithmetics.\n",
    "    \n",
    "    10\n",
    "    -24\n",
    "    2019"
   ]
  },
  {
   "cell_type": "markdown",
   "metadata": {},
   "source": [
    "#### Built-in Methods for Integers\n",
    "    type(10)\n",
    "    abs(-24)\n",
    "    min(10, -24, 2019)\n",
    "    max(10, -24, 2019)\n",
    "    float(10)"
   ]
  },
  {
   "cell_type": "markdown",
   "metadata": {},
   "source": [
    "#### Arithmetic Operators\n",
    "    1 + 2    => 3  (Addition)\n",
    "    1 - 2    => -1 (Subtraction)\n",
    "    2 * 4    => 8  (Multiplication)\n",
    "    5 / 2    => 2.5(Division)\n",
    "    5 // 2   => 2  (Floor division)\n",
    "    5 % 2    => 1  (Modulus)\n",
    "    2 ** 3   => 8  (Exponent)"
   ]
  },
  {
   "cell_type": "markdown",
   "metadata": {},
   "source": [
    "### FLOATS   float()\n",
    "To represent decimal numbers and can do standard arithmetics.\n",
    "\n",
    "    10.23132\n",
    "    -24.1\n",
    "    2019.0"
   ]
  },
  {
   "cell_type": "markdown",
   "metadata": {},
   "source": [
    "#### Built-in Methods for Floats\n",
    "    all built-functions for integers\n",
    "    round(10.23132, 2)\n",
    "    import math # first import math package - a collection of advanced mathematical functions\n",
    "    math.floor(10.23132)   \n",
    "    math.ceil(-24.1)\n",
    "    math.ceil(24.1)\n",
    "    math.factorial(5)"
   ]
  },
  {
   "cell_type": "markdown",
   "metadata": {},
   "source": [
    "###  Your turn! 🚀Try out `integers` and `floats` below!\n",
    "\n",
    "How? Type in a line of code on the empty line below and press `Shift` + `enter/return ⏎` keys to run it"
   ]
  },
  {
   "cell_type": "code",
   "execution_count": null,
   "metadata": {},
   "outputs": [],
   "source": []
  },
  {
   "cell_type": "markdown",
   "metadata": {},
   "source": [
    "### BOOLEANS & LOGICALS   bool() 🔀\n",
    "Booleans represent something that is True or False\n",
    "\n",
    "    True\n",
    "    False\n",
    "    \n",
    "Comparison Operators always yield Boolean values\n",
    "\n",
    "     ==       # different from assignment operator '='\n",
    "     !=\n",
    "     > or >=\n",
    "     < or <=\n",
    "     \n",
    "Logicals include:\n",
    "\n",
    "    or\n",
    "    and\n",
    "    not"
   ]
  },
  {
   "cell_type": "markdown",
   "metadata": {},
   "source": [
    "### VARIABLES 📦\n",
    "- Allows you to store values to reuse later\n",
    "- You assign a value to a variable\n",
    "- Variables can be overwritten and incremented\n",
    "- By convention, variable names should be in snake_case\n",
    "\n",
    "Variable assignment statement - *putting things in a box*\n",
    "\n",
    "    putting the `string` \"John\" in the box `first_name`\n",
    "        \n",
    "        first_name = \"John\"\n",
    "        \n",
    "    putting the `integer` 29 in the box `age`\n",
    "    \n",
    "        age = 29\n",
    "       \n",
    "    \n",
    "Variable reading - *opening the box to see what is inside*\n",
    "\n",
    "    print(age)\n",
    "    print(first_name)"
   ]
  },
  {
   "cell_type": "markdown",
   "metadata": {},
   "source": [
    "###  Your turn! 🚀Try out `booleans` and variables\n",
    "\n",
    "How? Type in a line of code on the empty line below and press `Shift` + `enter/return ⏎` keys to run it.\n",
    "\n",
    "Some ideas:\n",
    "* make two variables and check if they are equal (*pssst*, ==)\n",
    "* make two variables - your first name and last name - and try to add them together\n",
    "* create a variable with your age in years - now calculate your age in minutes (approximately)"
   ]
  },
  {
   "cell_type": "code",
   "execution_count": null,
   "metadata": {},
   "outputs": [],
   "source": []
  },
  {
   "cell_type": "markdown",
   "metadata": {},
   "source": [
    "# Data Science - Analysis 🧮"
   ]
  },
  {
   "cell_type": "markdown",
   "metadata": {},
   "source": [
    "### First of all - what are we using? 🔨"
   ]
  },
  {
   "cell_type": "markdown",
   "metadata": {},
   "source": [
    "[Jupyter Notebook](https://jupyter.org) is an open-source web application which allows you to create and share documents with code, visualizations and narrative. Which is what we are doing right now! "
   ]
  },
  {
   "cell_type": "markdown",
   "metadata": {},
   "source": [
    "[Numpy](https://www.numpy.org) fundamental package for scientific computing in Python."
   ]
  },
  {
   "cell_type": "markdown",
   "metadata": {},
   "source": [
    "[Pandas](https://pandas.pydata.org) is an open-source library providing easy to use data structuring and analytics for Python. "
   ]
  },
  {
   "cell_type": "markdown",
   "metadata": {},
   "source": [
    "### So this is how every Jupyter notebook starts..."
   ]
  },
  {
   "cell_type": "code",
   "execution_count": 1,
   "metadata": {},
   "outputs": [
    {
     "ename": "ModuleNotFoundError",
     "evalue": "No module named 'numpy'",
     "output_type": "error",
     "traceback": [
      "\u001b[0;31m---------------------------------------------------------------------------\u001b[0m",
      "\u001b[0;31mModuleNotFoundError\u001b[0m                       Traceback (most recent call last)",
      "\u001b[0;32m<ipython-input-1-1639c4e6a35e>\u001b[0m in \u001b[0;36m<module>\u001b[0;34m\u001b[0m\n\u001b[0;32m----> 1\u001b[0;31m \u001b[0;32mimport\u001b[0m \u001b[0mnumpy\u001b[0m \u001b[0;32mas\u001b[0m \u001b[0mnp\u001b[0m\u001b[0;34m\u001b[0m\u001b[0;34m\u001b[0m\u001b[0m\n\u001b[0m\u001b[1;32m      2\u001b[0m \u001b[0;32mimport\u001b[0m \u001b[0mpandas\u001b[0m \u001b[0;32mas\u001b[0m \u001b[0mpd\u001b[0m\u001b[0;34m\u001b[0m\u001b[0;34m\u001b[0m\u001b[0m\n\u001b[1;32m      3\u001b[0m \u001b[0mprint\u001b[0m\u001b[0;34m(\u001b[0m\u001b[0;34m\"You are good to go!\"\u001b[0m\u001b[0;34m)\u001b[0m\u001b[0;34m\u001b[0m\u001b[0;34m\u001b[0m\u001b[0m\n",
      "\u001b[0;31mModuleNotFoundError\u001b[0m: No module named 'numpy'"
     ]
    }
   ],
   "source": [
    "import numpy as np\n",
    "import pandas as pd\n",
    "print(\"You are good to go!\")"
   ]
  },
  {
   "cell_type": "markdown",
   "metadata": {},
   "source": [
    "### Python and Pandas is great for reading data files, like CSV"
   ]
  },
  {
   "cell_type": "code",
   "execution_count": null,
   "metadata": {
    "scrolled": true
   },
   "outputs": [],
   "source": [
    "file = \"countries of the world.csv\"\n",
    "countries_data = pd.read_csv(file, decimal=\",\")\n",
    "# no need to use print() when we want to see DataFrames, simply put what you want to see on the last line\n",
    "countries_data"
   ]
  },
  {
   "cell_type": "markdown",
   "metadata": {},
   "source": [
    "### We can then have a quick look at our `DataFrame` 🗺"
   ]
  },
  {
   "cell_type": "markdown",
   "metadata": {},
   "source": [
    "We can run `countries_data.shape` to check how many rows and columns we have. The result will be printed as (rows, columns)\n"
   ]
  },
  {
   "cell_type": "code",
   "execution_count": null,
   "metadata": {},
   "outputs": [],
   "source": [
    "print(\"rows and columns -->\", countries_data.shape)"
   ]
  },
  {
   "cell_type": "markdown",
   "metadata": {},
   "source": [
    "We can run `countries_data.columns` to check all the columns that our DataFrame has\n"
   ]
  },
  {
   "cell_type": "code",
   "execution_count": null,
   "metadata": {},
   "outputs": [],
   "source": [
    "print(\"all column names -->\", countries_data.columns)"
   ]
  },
  {
   "cell_type": "markdown",
   "metadata": {},
   "source": [
    "We can run `countries_data.head(YOUR_NUMBER)` to check the first `YOUR_NUMBER` of records of the DataFrame\n"
   ]
  },
  {
   "cell_type": "code",
   "execution_count": null,
   "metadata": {},
   "outputs": [],
   "source": [
    "countries_data.head(5) # will take the first 5 records"
   ]
  },
  {
   "cell_type": "markdown",
   "metadata": {},
   "source": [
    "We can run `countries_data.tail(YOUR_NUMBER)` to check the last `YOUR_NUMBER` records of the DataFrame\n"
   ]
  },
  {
   "cell_type": "code",
   "execution_count": null,
   "metadata": {
    "scrolled": true
   },
   "outputs": [],
   "source": [
    "countries_data.tail(5) # will take the last 5 records"
   ]
  },
  {
   "cell_type": "markdown",
   "metadata": {},
   "source": [
    "We can run `countries_data[COLUMN_NAME]` to see only the values of `COLUMN_NAME`\n"
   ]
  },
  {
   "cell_type": "code",
   "execution_count": null,
   "metadata": {},
   "outputs": [],
   "source": [
    "countries_data[\"Population\"]"
   ]
  },
  {
   "cell_type": "markdown",
   "metadata": {},
   "source": [
    "We can run `countries_data[[COLUMN_NAME_1, COLUMN_NAME_2,...etc]]` to see a few values together using the double square bracket notation\n"
   ]
  },
  {
   "cell_type": "code",
   "execution_count": null,
   "metadata": {},
   "outputs": [],
   "source": [
    "countries_data[[\"Population\", \"Country\"]]"
   ]
  },
  {
   "cell_type": "markdown",
   "metadata": {},
   "source": [
    "###  Your turn! 🚀Run the code above to import `numpy` and `pandas` and read the CSV to get `countrie_data`. No need to change anything there ;)\n",
    "\n",
    "#### Now play around with your `DataFrame` 🤓\n",
    "\n",
    "Some ideas:\n",
    "* check the amount of rows and columns in your DataFrame\n",
    "* check what are all the columns that you have\n",
    "* view only the \"Climate\" column of your DataFrame\n",
    "* view the first 10 rows of your DataFrame\n",
    "* view the last 10 rows of your DataFrame, but only viewing the \"Country\", \"Population\" and \"Climate\" 🤔\n",
    "\n",
    "How? Type in your code on the empty line below and press `Shift` + `enter/return ⏎` keys to run it"
   ]
  },
  {
   "cell_type": "code",
   "execution_count": null,
   "metadata": {},
   "outputs": [],
   "source": []
  },
  {
   "cell_type": "markdown",
   "metadata": {},
   "source": [
    "## Now let's do some data analytics! 🔍"
   ]
  },
  {
   "cell_type": "markdown",
   "metadata": {},
   "source": [
    "#### Let's say we want to see countries with over 20,000,000 people. We want to create a `boolean` - `True` or `False` - with this condition"
   ]
  },
  {
   "cell_type": "code",
   "execution_count": null,
   "metadata": {},
   "outputs": [],
   "source": [
    "large_population = countries_data[\"Population\"] > 20_000_000\n",
    "large_population"
   ]
  },
  {
   "cell_type": "markdown",
   "metadata": {},
   "source": [
    "#### We can see that `large_population` is now a list of `True` and `False` values, matching our countries DataFrame 🧐"
   ]
  },
  {
   "cell_type": "markdown",
   "metadata": {},
   "source": [
    "#### Now we can apply this condition to our `countries_data` using the square brackets `[condition]`, same syntax as we used for checking columns "
   ]
  },
  {
   "cell_type": "code",
   "execution_count": null,
   "metadata": {},
   "outputs": [],
   "source": [
    "large_countries = countries_data[large_population]\n",
    "large_countries"
   ]
  },
  {
   "cell_type": "markdown",
   "metadata": {},
   "source": [
    "#### Boom 💥we have our first data analytics solution!"
   ]
  },
  {
   "cell_type": "markdown",
   "metadata": {},
   "source": [
    "We can also sort our large_countries by Population, having largest first, using the syntax of `large_countries.sort_values(\"COLUMN_TO_SORT_BY\", ascending=False)`, like below\n"
   ]
  },
  {
   "cell_type": "code",
   "execution_count": null,
   "metadata": {},
   "outputs": [],
   "source": [
    "large_countries.sort_values(\"Population\", ascending=False) # change False to True if you wan't smallest countries first :)"
   ]
  },
  {
   "cell_type": "markdown",
   "metadata": {},
   "source": [
    "#### We can also combine data points! Let's see which of our large countries have the biggest Service industry 🤔\n"
   ]
  },
  {
   "cell_type": "code",
   "execution_count": null,
   "metadata": {},
   "outputs": [],
   "source": [
    "large_service_countries = large_countries.sort_values(\"Service\", ascending=False)\n",
    "large_service_countries"
   ]
  },
  {
   "cell_type": "markdown",
   "metadata": {},
   "source": [
    "Let's make our view a little cleaner - I only want to see the Country, Population and the ratio of Service industry. We can use the `large_service_countries[[COLUMN_NAME_1, COLUMN_NAME_2,...etc]]` syntax for that 🔍\n"
   ]
  },
  {
   "cell_type": "code",
   "execution_count": null,
   "metadata": {
    "scrolled": true
   },
   "outputs": [],
   "source": [
    "large_service_countries[[\"Country\", \"Population\", \"Service\"]]"
   ]
  },
  {
   "cell_type": "markdown",
   "metadata": {},
   "source": [
    "###  Your turn! 🚀 Explore your `DataFrame` and run some analysis 🤓\n",
    "\n",
    "Some ideas:\n",
    "* check which countries have the warmest climate ☀️\n",
    "* let's check the tiny countries! make a variable to store countries with Population < 3_000_000\n",
    "* Beach life! 😎check the countries with longest Coastline. Remember to type the full column name!\n",
    "* Are these coastal countries always online? 📱Let's sort them by amount of Phone usage. Again, check the full column name!\n",
    "#### ...and anything else you want to analyze! 🚀\n",
    "\n",
    "How? Type in your code on the empty line below and press `Shift` + `enter/return ⏎` keys to run it"
   ]
  },
  {
   "cell_type": "code",
   "execution_count": null,
   "metadata": {},
   "outputs": [],
   "source": []
  }
 ],
 "metadata": {
  "kernelspec": {
   "display_name": "Python 3",
   "language": "python",
   "name": "python3"
  },
  "language_info": {
   "codemirror_mode": {
    "name": "ipython",
    "version": 3
   },
   "file_extension": ".py",
   "mimetype": "text/x-python",
   "name": "python",
   "nbconvert_exporter": "python",
   "pygments_lexer": "ipython3",
   "version": "3.7.5"
  }
 },
 "nbformat": 4,
 "nbformat_minor": 2
}
